{
 "cells": [
  {
   "cell_type": "markdown",
   "metadata": {},
   "source": [
    "# Corrected estimate of the reproduction ratio from surveillance data"
   ]
  },
  {
   "cell_type": "markdown",
   "metadata": {},
   "source": [
    "This code is meant to implement the method to estimate the reproduction number of an infectious disease proposed in *Estimates of the reproduction ratio from epidemic surveillance may be biased in spatially structured populations*, Birello, Re Fiorentin, Wang, Colizza, Valdano.\n",
    "Preprint: https://arxiv.org/abs/2307.13798.\n",
    "\n",
    "Required inputs are:\n",
    "* a time series of reported or estimated infections in a number of spatial patches the geographic region under study is divided into;\n",
    "* a co-location matrix, that accounts for the mobility patterns between the spatial patches;\n",
    "* the population of spatial patches.\n",
    "\n",
    "Examples of input files can be found in this repository, in order to facilitate the use of this code."
   ]
  },
  {
   "cell_type": "markdown",
   "metadata": {},
   "source": [
    "## Imports"
   ]
  },
  {
   "cell_type": "code",
   "execution_count": 1,
   "metadata": {},
   "outputs": [],
   "source": [
    "import numpy as np\n",
    "import pandas as pd\n",
    "import scipy.linalg\n",
    "import epyestim.covid19 as covid19\n",
    "from epyestim import bagging_r\n",
    "import matplotlib.pyplot as plt"
   ]
  },
  {
   "cell_type": "markdown",
   "metadata": {},
   "source": [
    "## Read data"
   ]
  },
  {
   "cell_type": "code",
   "execution_count": 2,
   "metadata": {},
   "outputs": [],
   "source": [
    "# Colocation data\n",
    "colocation_matrix=pd.read_csv('Matrix_Example',index_col=0)     \n",
    "\n",
    "# Populations of departments\n",
    "departments_population=pd.read_csv('Populations_Example',index_col=0)\n",
    "departments_population=pd.Series(departments_population.iloc[:,0])\n",
    "\n",
    "# New infections in departments\n",
    "new_infections_departments = pd.read_csv('Cases_Example', index_col=0)\n",
    "\n",
    "N = departments_population.shape[0]"
   ]
  },
  {
   "cell_type": "markdown",
   "metadata": {},
   "source": [
    "## Compute the reproduction operator and $v^*$, then obtain corrected incidence  "
   ]
  },
  {
   "cell_type": "code",
   "execution_count": 3,
   "metadata": {},
   "outputs": [
    {
     "data": {
      "text/plain": [
       "date\n",
       "2020-03-03     7125.00\n",
       "2020-03-04     9093.75\n",
       "2020-03-05    11000.00\n",
       "2020-03-06    14406.25\n",
       "2020-03-07    18812.50\n",
       "Name: total, dtype: float64"
      ]
     },
     "metadata": {},
     "output_type": "display_data"
    },
    {
     "data": {
      "text/plain": [
       "date\n",
       "2020-03-03     3181.176412\n",
       "2020-03-04    16014.563452\n",
       "2020-03-05    19846.009720\n",
       "2020-03-06    16875.796955\n",
       "2020-03-07    35403.480626\n",
       "Name: total, dtype: float64"
      ]
     },
     "metadata": {},
     "output_type": "display_data"
    }
   ],
   "source": [
    "# Obtain reproduction operator\n",
    "R = colocation_matrix.mul(departments_population,axis=0)\n",
    "\n",
    "# Compute left eigenvector (note that it has real entries)\n",
    "w,vl,vr=scipy.linalg.eig(R.to_numpy(),left=True)\n",
    "v_star=vl[:,w.argmax()]/np.sum(vl[:,w.argmax()])\n",
    "v_star=pd.Series(v_star.real)  \n",
    "v_star.set_axis(R.columns,inplace=True)\n",
    "\n",
    "# Compute new infections globally\n",
    "new_infections = new_infections_departments.copy()\n",
    "new_infections['total'] = new_infections.iloc[:,1:].sum(axis=1) \n",
    "new_infections['date']=pd.to_datetime(new_infections['date'])\n",
    "new_infections = new_infections.set_index('date')['total']\n",
    "\n",
    "# Compute new infections corrected, i.e., weighted by v_star)\n",
    "new_infections_corr = new_infections_departments.copy()\n",
    "new_infections_corr.iloc[:,1:]=new_infections_corr.iloc[:,1:].mul(v_star*N,axis=1)\n",
    "new_infections_corr['total'] = new_infections_corr.iloc[:,1:].sum(axis=1) \n",
    "new_infections_corr['date']=pd.to_datetime(new_infections_corr['date'])\n",
    "new_infections_corr=new_infections_corr.set_index('date')['total']\n",
    "\n",
    "#display\n",
    "display(new_infections.head())\n",
    "display(new_infections_corr.head())"
   ]
  },
  {
   "cell_type": "markdown",
   "metadata": {},
   "source": [
    "## EpiEstim"
   ]
  },
  {
   "cell_type": "markdown",
   "metadata": {},
   "source": [
    "We will now compute our estimates of the reproduction ratio. Some inputs will be required. \n",
    "* generation interval distribution;\n",
    "* distribution of delay from infection to reporting;\n",
    "* smoothing window, i.e., the size of the rolling window;\n",
    "* r_window_size, i.e., the minimum time needed to obtain realiable estimates of the reproduction ratio;\n",
    "* $a, b$, i.e., the prior parameters of the Gamma distribution used to estimate the reproduction ratio. The default choice of the authors of the method is $a=1, b=5$, giving mean 5 and standard deviation 5.\n",
    "\n",
    "See the documentation at https://pypi.org/project/epyestim/ for futher information."
   ]
  },
  {
   "cell_type": "code",
   "execution_count": 4,
   "metadata": {},
   "outputs": [
    {
     "data": {
      "image/png": "[encoded data removed]",
      "text/plain": [
       "<Figure size 864x216 with 2 Axes>"
      ]
     },
     "metadata": {
      "needs_background": "light"
     },
     "output_type": "display_data"
    }
   ],
   "source": [
    "# Insert your generation interval distribution. As an example, here we set a generation interval distribution for COVID-19.\n",
    "si_distrb = covid19.generate_standard_si_distribution()\n",
    "# Insert your distribution of delay from infection to reporting. As an example, here we set a distribution of delay for COVID-19\n",
    "delay_distrb = covid19.generate_standard_infection_to_reporting_distribution()\n",
    "\n",
    "# Visualize the distributions\n",
    "fig, axs = plt.subplots(1, 2, figsize=(12,3))\n",
    "axs[0].bar(range(len(si_distrb)), si_distrb, width=1)\n",
    "axs[1].bar(range(len(delay_distrb)), delay_distrb, width=1)\n",
    "axs[0].set_title('Default serial interval distribution')\n",
    "axs[1].set_title('Default infection-to-reporting delay distribution')\n",
    "plt.show()"
   ]
  },
  {
   "cell_type": "code",
   "execution_count": 5,
   "metadata": {},
   "outputs": [
    {
     "data": {
      "text/html": [
       "<div>\n",
       "<style scoped>\n",
       "    .dataframe tbody tr th:only-of-type {\n",
       "        vertical-align: middle;\n",
       "    }\n",
       "\n",
       "    .dataframe tbody tr th {\n",
       "        vertical-align: top;\n",
       "    }\n",
       "\n",
       "    .dataframe thead th {\n",
       "        text-align: right;\n",
       "    }\n",
       "</style>\n",
       "<table border=\"1\" class=\"dataframe\">\n",
       "  <thead>\n",
       "    <tr style=\"text-align: right;\">\n",
       "      <th></th>\n",
       "      <th>cases</th>\n",
       "      <th>R_mean</th>\n",
       "      <th>R_var</th>\n",
       "      <th>Q0.025</th>\n",
       "      <th>Q0.5</th>\n",
       "      <th>Q0.975</th>\n",
       "    </tr>\n",
       "  </thead>\n",
       "  <tbody>\n",
       "    <tr>\n",
       "      <th>2020-03-10</th>\n",
       "      <td>34718.0</td>\n",
       "      <td>2.026049</td>\n",
       "      <td>0.000007</td>\n",
       "      <td>2.020756</td>\n",
       "      <td>2.026048</td>\n",
       "      <td>2.031349</td>\n",
       "    </tr>\n",
       "    <tr>\n",
       "      <th>2020-03-11</th>\n",
       "      <td>43718.0</td>\n",
       "      <td>1.728224</td>\n",
       "      <td>0.000005</td>\n",
       "      <td>1.723871</td>\n",
       "      <td>1.728223</td>\n",
       "      <td>1.732583</td>\n",
       "    </tr>\n",
       "    <tr>\n",
       "      <th>2020-03-12</th>\n",
       "      <td>49187.0</td>\n",
       "      <td>1.528016</td>\n",
       "      <td>0.000004</td>\n",
       "      <td>1.524292</td>\n",
       "      <td>1.528015</td>\n",
       "      <td>1.531743</td>\n",
       "    </tr>\n",
       "    <tr>\n",
       "      <th>2020-03-13</th>\n",
       "      <td>60687.0</td>\n",
       "      <td>1.428968</td>\n",
       "      <td>0.000003</td>\n",
       "      <td>1.425619</td>\n",
       "      <td>1.428968</td>\n",
       "      <td>1.432322</td>\n",
       "    </tr>\n",
       "    <tr>\n",
       "      <th>2020-03-14</th>\n",
       "      <td>52281.0</td>\n",
       "      <td>1.416105</td>\n",
       "      <td>0.000003</td>\n",
       "      <td>1.412950</td>\n",
       "      <td>1.416105</td>\n",
       "      <td>1.419264</td>\n",
       "    </tr>\n",
       "  </tbody>\n",
       "</table>\n",
       "</div>"
      ],
      "text/plain": [
       "              cases    R_mean     R_var    Q0.025      Q0.5    Q0.975\n",
       "2020-03-10  34718.0  2.026049  0.000007  2.020756  2.026048  2.031349\n",
       "2020-03-11  43718.0  1.728224  0.000005  1.723871  1.728223  1.732583\n",
       "2020-03-12  49187.0  1.528016  0.000004  1.524292  1.528015  1.531743\n",
       "2020-03-13  60687.0  1.428968  0.000003  1.425619  1.428968  1.432322\n",
       "2020-03-14  52281.0  1.416105  0.000003  1.412950  1.416105  1.419264"
      ]
     },
     "metadata": {},
     "output_type": "display_data"
    },
    {
     "data": {
      "text/html": [
       "<div>\n",
       "<style scoped>\n",
       "    .dataframe tbody tr th:only-of-type {\n",
       "        vertical-align: middle;\n",
       "    }\n",
       "\n",
       "    .dataframe tbody tr th {\n",
       "        vertical-align: top;\n",
       "    }\n",
       "\n",
       "    .dataframe thead th {\n",
       "        text-align: right;\n",
       "    }\n",
       "</style>\n",
       "<table border=\"1\" class=\"dataframe\">\n",
       "  <thead>\n",
       "    <tr style=\"text-align: right;\">\n",
       "      <th></th>\n",
       "      <th>cases</th>\n",
       "      <th>R_mean</th>\n",
       "      <th>R_var</th>\n",
       "      <th>Q0.025</th>\n",
       "      <th>Q0.5</th>\n",
       "      <th>Q0.975</th>\n",
       "    </tr>\n",
       "  </thead>\n",
       "  <tbody>\n",
       "    <tr>\n",
       "      <th>2020-03-10</th>\n",
       "      <td>27619.0</td>\n",
       "      <td>0.931790</td>\n",
       "      <td>0.000003</td>\n",
       "      <td>0.928392</td>\n",
       "      <td>0.931788</td>\n",
       "      <td>0.935193</td>\n",
       "    </tr>\n",
       "    <tr>\n",
       "      <th>2020-03-11</th>\n",
       "      <td>35985.0</td>\n",
       "      <td>0.779311</td>\n",
       "      <td>0.000002</td>\n",
       "      <td>0.776283</td>\n",
       "      <td>0.779310</td>\n",
       "      <td>0.782344</td>\n",
       "    </tr>\n",
       "    <tr>\n",
       "      <th>2020-03-12</th>\n",
       "      <td>30478.0</td>\n",
       "      <td>0.832657</td>\n",
       "      <td>0.000003</td>\n",
       "      <td>0.829517</td>\n",
       "      <td>0.832656</td>\n",
       "      <td>0.835804</td>\n",
       "    </tr>\n",
       "    <tr>\n",
       "      <th>2020-03-13</th>\n",
       "      <td>29359.0</td>\n",
       "      <td>1.097241</td>\n",
       "      <td>0.000004</td>\n",
       "      <td>1.093562</td>\n",
       "      <td>1.097240</td>\n",
       "      <td>1.100927</td>\n",
       "    </tr>\n",
       "    <tr>\n",
       "      <th>2020-03-14</th>\n",
       "      <td>37333.0</td>\n",
       "      <td>1.535522</td>\n",
       "      <td>0.000005</td>\n",
       "      <td>1.531048</td>\n",
       "      <td>1.535521</td>\n",
       "      <td>1.540003</td>\n",
       "    </tr>\n",
       "  </tbody>\n",
       "</table>\n",
       "</div>"
      ],
      "text/plain": [
       "              cases    R_mean     R_var    Q0.025      Q0.5    Q0.975\n",
       "2020-03-10  27619.0  0.931790  0.000003  0.928392  0.931788  0.935193\n",
       "2020-03-11  35985.0  0.779311  0.000002  0.776283  0.779310  0.782344\n",
       "2020-03-12  30478.0  0.832657  0.000003  0.829517  0.832656  0.835804\n",
       "2020-03-13  29359.0  1.097241  0.000004  1.093562  1.097240  1.100927\n",
       "2020-03-14  37333.0  1.535522  0.000005  1.531048  1.535521  1.540003"
      ]
     },
     "metadata": {},
     "output_type": "display_data"
    }
   ],
   "source": [
    "# Estimate the reproduction number\n",
    "estimated_R = bagging_r( confirmed_cases=new_infections, gt_distribution=si_distrb, delay_distribution=delay_distrb, smoothing_window=7, r_window_size=7, a_prior=1, b_prior=5)\n",
    "# Estimate the proposed corrected reproduction number\n",
    "estimated_R_corr = bagging_r( confirmed_cases=new_infections_corr, gt_distribution=si_distrb, delay_distribution=delay_distrb, smoothing_window=7, r_window_size=7, a_prior=1, b_prior=5)\n",
    "\n",
    "display(estimated_R.head())\n",
    "display(estimated_R_corr.head())"
   ]
  },
  {
   "cell_type": "code",
   "execution_count": 6,
   "metadata": {},
   "outputs": [
    {
     "data": {
      "image/png": "[encoded data removed]",
      "text/plain": [
       "<Figure size 720x360 with 1 Axes>"
      ]
     },
     "metadata": {
      "needs_background": "light"
     },
     "output_type": "display_data"
    }
   ],
   "source": [
    "# Plot the result\n",
    "fig,ax=plt.subplots(figsize=(10,5))\n",
    "ax.plot(estimated_R.index[7:],estimated_R['R_mean'][7:],color='orchid',label='EpiEstim')\n",
    "ax.plot(estimated_R_corr.index[7:],estimated_R_corr['R_mean'][7:],color='tab:blue',label=r'EpiEstim$^{corr}$')\n",
    "ax.tick_params(axis='x',labelsize=15,rotation=90)\n",
    "ax.tick_params(axis='y',labelsize=15)\n",
    "_=ax.legend(fontsize=15)"
   ]
  },
  {
   "cell_type": "markdown",
   "metadata": {},
   "source": [
    "Note: The above figure was obtained using a randomly generated co-location matrix, and should be treated as such."
   ]
  }
 ],
 "metadata": {
  "kernelspec": {
   "display_name": "base",
   "language": "python",
   "name": "python3"
  },
  "language_info": {
   "codemirror_mode": {
    "name": "ipython",
    "version": 3
   },
   "file_extension": ".py",
   "mimetype": "text/x-python",
   "name": "python",
   "nbconvert_exporter": "python",
   "pygments_lexer": "ipython3",
   "version": "3.9.12"
  }
 },
 "nbformat": 4,
 "nbformat_minor": 2
}
